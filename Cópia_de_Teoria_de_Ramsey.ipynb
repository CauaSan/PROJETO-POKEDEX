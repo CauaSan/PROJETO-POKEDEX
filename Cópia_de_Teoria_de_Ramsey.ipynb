{
  "nbformat": 4,
  "nbformat_minor": 0,
  "metadata": {
    "colab": {
      "provenance": [],
      "authorship_tag": "ABX9TyP4a9ycVW8G175rKyRw/rg7",
      "include_colab_link": true
    },
    "kernelspec": {
      "name": "python3",
      "display_name": "Python 3"
    },
    "language_info": {
      "name": "python"
    }
  },
  "cells": [
    {
      "cell_type": "markdown",
      "metadata": {
        "id": "view-in-github",
        "colab_type": "text"
      },
      "source": [
        "<a href=\"https://colab.research.google.com/github/CauaSan/Projeto-Pokedex/blob/main/C%C3%B3pia_de_Teoria_de_Ramsey.ipynb\" target=\"_parent\"><img src=\"https://colab.research.google.com/assets/colab-badge.svg\" alt=\"Open In Colab\"/></a>"
      ]
    },
    {
      "cell_type": "code",
      "execution_count": null,
      "metadata": {
        "colab": {
          "base_uri": "https://localhost:8080/"
        },
        "id": "xfXR29-OXeeg",
        "outputId": "99b9384d-3f6b-4150-c2ff-9ef33dd13969"
      },
      "outputs": [
        {
          "output_type": "stream",
          "name": "stdout",
          "text": [
            "R(3, 3) = 6\n"
          ]
        }
      ],
      "source": [
        "from itertools import combinations\n",
        "\n",
        "def generate_edges(n):\n",
        "    \"\"\"Gera todas as arestas de um grafo completo com n vértices.\"\"\"\n",
        "    return list(combinations(range(n), 2))\n",
        "\n",
        "def is_monochromatic(subset, coloring, color):\n",
        "    \"\"\"Verifica se todas as arestas em um subconjunto possuem a mesma cor.\"\"\"\n",
        "    return all(coloring[edge] == color for edge in subset)\n",
        "\n",
        "def has_clique(n, coloring, clique_size, color):\n",
        "    \"\"\"Verifica se há um clique monocromático de tamanho dado.\"\"\"\n",
        "    from itertools import combinations\n",
        "    for subset in combinations(range(n), clique_size):\n",
        "        edges = [tuple(sorted((subset[i], subset[j]))) for i in range(len(subset)) for j in range(i + 1, len(subset))]\n",
        "        if is_monochromatic(edges, coloring, color):\n",
        "            return True\n",
        "    return False\n",
        "\n",
        "def is_valid_coloring(n, coloring, clique_red, clique_blue):\n",
        "    \"\"\"Verifica se uma coloração não contém cliques monocromáticos indesejados.\"\"\"\n",
        "    return not (has_clique(n, coloring, clique_red, \"R\") or has_clique(n, coloring, clique_blue, \"B\"))\n",
        "\n",
        "def try_colorings(n, clique_red, clique_blue):\n",
        "    \"\"\"Testa todas as colorações possíveis em um grafo completo de n vértices.\"\"\"\n",
        "    edges = generate_edges(n)\n",
        "    num_edges = len(edges)\n",
        "    for bits in range(2**num_edges):\n",
        "        coloring = {}\n",
        "        for i, edge in enumerate(edges):\n",
        "            coloring[edge] = \"R\" if (bits & (1 << i)) else \"B\"\n",
        "        if is_valid_coloring(n, coloring, clique_red, clique_blue):\n",
        "            return False\n",
        "    return True\n",
        "\n",
        "def ramsey_number(clique_red, clique_blue):\n",
        "    \"\"\"Determina o número de Ramsey para clique_red e clique_blue.\"\"\"\n",
        "    n = 1\n",
        "    while True:\n",
        "        if try_colorings(n, clique_red, clique_blue):\n",
        "            return n\n",
        "        n += 1\n",
        "\n",
        "# Exemplo de uso\n",
        "print(\"R(3, 3) =\", ramsey_number(3, 3))"
      ]
    },
    {
      "cell_type": "code",
      "source": [
        "def is_monochromatic(edges, subset):\n",
        "    \"\"\"Verifica se todas as arestas em um subconjunto possuem a mesma cor.\"\"\"\n",
        "    color = edges[subset[0]]\n",
        "    for edge in subset[1:]:\n",
        "        if edges[edge] != color:\n",
        "            return False\n",
        "    return True\n",
        "\n",
        "def check_coloring(n, edges, clique_size):\n",
        "    \"\"\"Verifica se um grafo contém um clique monocromático de tamanho dado.\"\"\"\n",
        "    from itertools import combinations\n",
        "    for subset in combinations(range(n), clique_size):\n",
        "        sub_edges = [frozenset((subset[i], subset[j])) for i in range(len(subset)) for j in range(i + 1, len(subset))]\n",
        "        if all(edge in edges for edge in sub_edges) and is_monochromatic(edges, sub_edges):\n",
        "            return True\n",
        "    return False\n",
        "\n",
        "def ramsey_recursive(n, clique_red, clique_blue, edges, current_edge):\n",
        "    \"\"\"Procura um grafo colorido válido para determinar o número de Ramsey.\"\"\"\n",
        "    if len(edges) == current_edge:\n",
        "        return (\n",
        "            check_coloring(n, edges, clique_red) or\n",
        "            check_coloring(n, edges, clique_blue)\n",
        "        )"
      ],
      "metadata": {
        "id": "1nlgHfliXkQR"
      },
      "execution_count": null,
      "outputs": []
    }
  ]
}